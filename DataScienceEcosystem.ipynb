{
 "cells": [
  {
   "cell_type": "markdown",
   "id": "b7a66043-b7b2-4f34-b984-d651cdfa18ca",
   "metadata": {},
   "source": [
    "# Data Science Tools and Ecosystem"
   ]
  },
  {
   "cell_type": "markdown",
   "id": "aa6fa246-8636-4abf-ac98-d41ca6986e99",
   "metadata": {},
   "source": [
    "In this notebook, Data Science Tools and Ecosystem are summarized."
   ]
  },
  {
   "cell_type": "markdown",
   "id": "77b21db3-8c4f-4f28-ac1b-a120b3eb3316",
   "metadata": {},
   "source": [
    "Some of the popular languages that Data Scientists use are:"
   ]
  },
  {
   "cell_type": "markdown",
   "id": "030898e9-5dc5-420c-adde-37acf791e6d0",
   "metadata": {
    "tags": []
   },
   "source": [
    "1. Python\n",
    "2. R\n",
    "3. SQL\n",
    "4. Java"
   ]
  },
  {
   "cell_type": "markdown",
   "id": "db7edb7e-3355-4ece-bc7d-c73ccaea7caa",
   "metadata": {},
   "source": [
    "Some of the commonly used libraries used by Data Scientists include:"
   ]
  },
  {
   "cell_type": "markdown",
   "id": "a9a92ecc-31c0-441f-9a1a-e29ee9faf8e7",
   "metadata": {},
   "source": [
    "1. NumPy\n",
    "2. Pandas\n",
    "3. matplotlib"
   ]
  },
  {
   "cell_type": "markdown",
   "id": "0061c717-2278-450d-8d60-c3b571d57098",
   "metadata": {},
   "source": [
    "|Data Science Tools|\n",
    "|------------------|\n",
    "| Jupyter          |\n",
    "| R Studio         |\n",
    "| Visual Studio    |"
   ]
  },
  {
   "cell_type": "markdown",
   "id": "8310c5f1-ded9-43c9-867a-be80d3926bb5",
   "metadata": {},
   "source": [
    "### Below are a few examples of evaluating arithmetic expressions in Python"
   ]
  },
  {
   "cell_type": "code",
   "execution_count": 3,
   "id": "e3364686-d77a-4264-89b7-a0c85f5796e1",
   "metadata": {
    "tags": []
   },
   "outputs": [
    {
     "data": {
      "text/plain": [
       "17"
      ]
     },
     "execution_count": 3,
     "metadata": {},
     "output_type": "execute_result"
    }
   ],
   "source": [
    "#This a simple arithmetic expression to mutiply then add integers\n",
    "(3*4)+5"
   ]
  },
  {
   "cell_type": "code",
   "execution_count": 4,
   "id": "5e9078d4-b819-4758-88bd-f5ecb460bf0f",
   "metadata": {
    "tags": []
   },
   "outputs": [
    {
     "data": {
      "text/plain": [
       "3.3333333333333335"
      ]
     },
     "execution_count": 4,
     "metadata": {},
     "output_type": "execute_result"
    }
   ],
   "source": [
    "#This will convert 200 minutes to hours by diving by 60\n",
    "200/60"
   ]
  },
  {
   "cell_type": "markdown",
   "id": "b6d10d42-228c-4432-af00-6eaf62c486ff",
   "metadata": {
    "tags": []
   },
   "source": [
    "***Objectives:***\n",
    "- Get an overview of code and markdown cells\n",
    "- Execute an existing code cell\n",
    "- Insert and delete a code cell\n",
    "- Write comments in Python\n",
    "- Create and use Markdown cells"
   ]
  },
  {
   "cell_type": "markdown",
   "id": "1cffc540-6c3b-45de-b55c-ebdd687de989",
   "metadata": {
    "tags": []
   },
   "source": [
    "## Author\n",
    "Pharkpoom Ying-aree"
   ]
  },
  {
   "cell_type": "code",
   "execution_count": null,
   "id": "30a7404c-5141-4c01-ad87-0535fbfb74fe",
   "metadata": {},
   "outputs": [],
   "source": []
  }
 ],
 "metadata": {
  "kernelspec": {
   "display_name": "Python",
   "language": "python",
   "name": "conda-env-python-py"
  },
  "language_info": {
   "codemirror_mode": {
    "name": "ipython",
    "version": 3
   },
   "file_extension": ".py",
   "mimetype": "text/x-python",
   "name": "python",
   "nbconvert_exporter": "python",
   "pygments_lexer": "ipython3",
   "version": "3.7.12"
  }
 },
 "nbformat": 4,
 "nbformat_minor": 5
}
